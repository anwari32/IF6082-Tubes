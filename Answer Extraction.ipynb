{
 "cells": [
  {
   "cell_type": "code",
   "execution_count": 1,
   "id": "24e22894",
   "metadata": {},
   "outputs": [],
   "source": [
    "import numpy as np\n",
    "import tensorflow as tf\n",
    "from tensorflow import keras\n",
    "from tensorflow.keras import layers\n",
    "import os\n",
    "\n",
    "os.environ['TF_XLA_FLAGS'] = '--tf_xla_enable_xla_devices'"
   ]
  },
  {
   "cell_type": "code",
   "execution_count": 6,
   "id": "d534ad5b",
   "metadata": {},
   "outputs": [
    {
     "data": {
      "text/html": [
       "<div>\n",
       "<style scoped>\n",
       "    .dataframe tbody tr th:only-of-type {\n",
       "        vertical-align: middle;\n",
       "    }\n",
       "\n",
       "    .dataframe tbody tr th {\n",
       "        vertical-align: top;\n",
       "    }\n",
       "\n",
       "    .dataframe thead th {\n",
       "        text-align: right;\n",
       "    }\n",
       "</style>\n",
       "<table border=\"1\" class=\"dataframe\">\n",
       "  <thead>\n",
       "    <tr style=\"text-align: right;\">\n",
       "      <th></th>\n",
       "      <th>question</th>\n",
       "      <th>answer</th>\n",
       "      <th>answer_html</th>\n",
       "      <th>link</th>\n",
       "      <th>name</th>\n",
       "      <th>source</th>\n",
       "      <th>category</th>\n",
       "      <th>country</th>\n",
       "      <th>region</th>\n",
       "      <th>city</th>\n",
       "      <th>lang</th>\n",
       "      <th>last_update</th>\n",
       "    </tr>\n",
       "  </thead>\n",
       "  <tbody>\n",
       "    <tr>\n",
       "      <th>0</th>\n",
       "      <td>What is a novel coronavirus?</td>\n",
       "      <td>A novel coronavirus is a new coronavirus that ...</td>\n",
       "      <td>&lt;p&gt;A novel coronavirus is a new coronavirus th...</td>\n",
       "      <td>\\nhttps://www.cdc.gov/coronavirus/2019-ncov/fa...</td>\n",
       "      <td>Frequently Asked Questions</td>\n",
       "      <td>Center for Disease Control and Prevention (CDC)</td>\n",
       "      <td>Coronavirus Disease 2019 Basics</td>\n",
       "      <td>USA</td>\n",
       "      <td></td>\n",
       "      <td></td>\n",
       "      <td>en</td>\n",
       "      <td>2020/03/17</td>\n",
       "    </tr>\n",
       "    <tr>\n",
       "      <th>1</th>\n",
       "      <td>Why is the disease being called coronavirus di...</td>\n",
       "      <td>On February 11, 2020 the World Health Organiza...</td>\n",
       "      <td>&lt;p&gt;On February 11, 2020 the World Health Organ...</td>\n",
       "      <td>\\nhttps://www.cdc.gov/coronavirus/2019-ncov/fa...</td>\n",
       "      <td>Frequently Asked Questions</td>\n",
       "      <td>Center for Disease Control and Prevention (CDC)</td>\n",
       "      <td>Coronavirus Disease 2019 Basics</td>\n",
       "      <td>USA</td>\n",
       "      <td></td>\n",
       "      <td></td>\n",
       "      <td>en</td>\n",
       "      <td>2020/03/17</td>\n",
       "    </tr>\n",
       "  </tbody>\n",
       "</table>\n",
       "</div>"
      ],
      "text/plain": [
       "                                            question  \\\n",
       "0                       What is a novel coronavirus?   \n",
       "1  Why is the disease being called coronavirus di...   \n",
       "\n",
       "                                              answer  \\\n",
       "0  A novel coronavirus is a new coronavirus that ...   \n",
       "1  On February 11, 2020 the World Health Organiza...   \n",
       "\n",
       "                                         answer_html  \\\n",
       "0  <p>A novel coronavirus is a new coronavirus th...   \n",
       "1  <p>On February 11, 2020 the World Health Organ...   \n",
       "\n",
       "                                                link  \\\n",
       "0  \\nhttps://www.cdc.gov/coronavirus/2019-ncov/fa...   \n",
       "1  \\nhttps://www.cdc.gov/coronavirus/2019-ncov/fa...   \n",
       "\n",
       "                         name  \\\n",
       "0  Frequently Asked Questions   \n",
       "1  Frequently Asked Questions   \n",
       "\n",
       "                                            source  \\\n",
       "0  Center for Disease Control and Prevention (CDC)   \n",
       "1  Center for Disease Control and Prevention (CDC)   \n",
       "\n",
       "                          category country region city lang last_update  \n",
       "0  Coronavirus Disease 2019 Basics     USA               en  2020/03/17  \n",
       "1  Coronavirus Disease 2019 Basics     USA               en  2020/03/17  "
      ]
     },
     "execution_count": 6,
     "metadata": {},
     "output_type": "execute_result"
    }
   ],
   "source": [
    "import pandas as pd\n",
    "\n",
    "# Reads CSVs\n",
    "def read_csv(file, encoding):\n",
    "    df = pd.read_csv(file, encoding=encoding)\n",
    "    df.fillna(value=\"\", inplace=True)\n",
    "    return df\n",
    "\n",
    "# Read covid BERT documents\n",
    "faq_covidbert = read_csv(\"data/faqs/faq_covidbert.csv\", \"utf8\")\n",
    "faq_covidbert.head(2)"
   ]
  },
  {
   "cell_type": "code",
   "execution_count": 13,
   "id": "cf737665",
   "metadata": {},
   "outputs": [
    {
     "name": "stderr",
     "output_type": "stream",
     "text": [
      "[nltk_data] Downloading package averaged_perceptron_tagger to\n",
      "[nltk_data]     C:\\Users\\lmanw\\AppData\\Roaming\\nltk_data...\n",
      "[nltk_data]   Package averaged_perceptron_tagger is already up-to-\n",
      "[nltk_data]       date!\n"
     ]
    }
   ],
   "source": [
    "import nltk\n",
    "\n",
    "nltk.download('averaged_perceptron_tagger')\n",
    "\n",
    "from nltk.tag.perceptron import PerceptronTagger\n",
    "\n",
    "# Preprocess the text with POS Tagger\n",
    "# @input - sentence : string\n",
    "# @return - tuples : array of tuples.\n",
    "def pos_tagger(sentence):\n",
    "    pretrainTagger = PerceptronTagger()\n",
    "    tuples = pretrainTagger.tag(sentence.split())\n",
    "    return tuples\n",
    "\n",
    "# Test tagger for a sentence.\n",
    "tagged_answer0 = pos_tagger(faq_covidbert.iloc[0]['answer'])        "
   ]
  },
  {
   "cell_type": "code",
   "execution_count": 16,
   "id": "6dff3bc6",
   "metadata": {},
   "outputs": [],
   "source": [
    "tagged_answers = [pos_tagger(s) for s in faq_covidbert['answer']]"
   ]
  },
  {
   "cell_type": "code",
   "execution_count": null,
   "id": "c5cb470f",
   "metadata": {},
   "outputs": [],
   "source": [
    "# Documents retriever\n",
    "# Retrieve documents and store them into database\n",
    "from haystack.database.elasticsearch import ElasticsearchDocumentStore\n",
    "from haystack.retrieve.elasticsearch import ElasticsearchRetriever\n",
    "\n",
    "retriever = ElasticsearchRetriever()\n",
    "document_store = ElasticsearchRetriever()"
   ]
  },
  {
   "cell_type": "code",
   "execution_count": 7,
   "id": "db5d2939",
   "metadata": {},
   "outputs": [
    {
     "name": "stdout",
     "output_type": "stream",
     "text": [
      "Found 400000 word vectors.\n"
     ]
    }
   ],
   "source": [
    "# Load GloVe embeddings\n",
    "def load_glove():\n",
    "    f = open('glove/glove.6B.100d.txt',encoding=\"utf8\")\n",
    "    embeddings_index = dict()\n",
    "    for line in f:\n",
    "        values = line.split()\n",
    "        word = values[0]\n",
    "        embeddings = np.asarray(values[1:], dtype='float32')\n",
    "        embeddings_index[word] = embeddings\n",
    "    f.close()\n",
    "    print('Found {} word vectors.'.format(len(embeddings_index)))\n",
    "\n",
    "load_glove()"
   ]
  },
  {
   "cell_type": "code",
   "execution_count": 11,
   "id": "40489f67",
   "metadata": {},
   "outputs": [
    {
     "name": "stdout",
     "output_type": "stream",
     "text": [
      "Model: \"sequential_4\"\n",
      "_________________________________________________________________\n",
      "Layer (type)                 Output Shape              Param #   \n",
      "=================================================================\n",
      "embedding_4 (Embedding)      (None, None, 50)          5000      \n",
      "_________________________________________________________________\n",
      "conv1d_3 (Conv1D)            (None, None, 100)         25100     \n",
      "_________________________________________________________________\n",
      "max_pooling1d_1 (MaxPooling1 (None, None, 100)         0         \n",
      "_________________________________________________________________\n",
      "dense_3 (Dense)              (None, None, 128)         12928     \n",
      "_________________________________________________________________\n",
      "conv1d_4 (Conv1D)            (None, None, 100)         64100     \n",
      "_________________________________________________________________\n",
      "max_pooling1d_2 (MaxPooling1 (None, None, 100)         0         \n",
      "_________________________________________________________________\n",
      "dense_4 (Dense)              (None, None, 128)         12928     \n",
      "_________________________________________________________________\n",
      "lstm_3 (LSTM)                (None, 128)               131584    \n",
      "_________________________________________________________________\n",
      "dense_5 (Dense)              (None, 10)                1290      \n",
      "=================================================================\n",
      "Total params: 252,930\n",
      "Trainable params: 252,930\n",
      "Non-trainable params: 0\n",
      "_________________________________________________________________\n"
     ]
    }
   ],
   "source": [
    "INPUT_DIMENSION = 100 # using GloVe Embedding 100 dimensions.\n",
    "OUTPUT_DIMENSION = 50 # output embedding layer 50 dimensions.\n",
    "KERNEL_SIZE = 5 # Kernel size.\n",
    "\n",
    "model = keras.Sequential()\n",
    "model.add(layers.Embedding(input_dim=INPUT_DIMENSION, output_dim=OUTPUT_DIMENSION))\n",
    "model.add(layers.Convolution1D(filters=INPUT_DIMENSION, kernel_size=KERNEL_SIZE))\n",
    "model.add(layers.MaxPooling1D(pool_size=2, strides=None, padding=\"valid\"))\n",
    "model.add(layers.Dense(128))\n",
    "model.add(layers.Convolution1D(filters=INPUT_DIMENSION, kernel_size=KERNEL_SIZE))\n",
    "model.add(layers.MaxPooling1D(pool_size=2, strides=None, padding=\"valid\"))\n",
    "model.add(layers.Dense(128))\n",
    "model.add(layers.LSTM(128))\n",
    "model.add(layers.Dense(10))\n",
    "model.summary()"
   ]
  },
  {
   "cell_type": "code",
   "execution_count": 21,
   "id": "6eff0678",
   "metadata": {},
   "outputs": [
    {
     "ename": "ImportError",
     "evalue": "\nAlbertForQuestionAnswering requires the PyTorch library but it was not found in your environment. Checkout the instructions on the\ninstallation page: https://pytorch.org/get-started/locally/ and follow the ones that match your environment.\n",
     "output_type": "error",
     "traceback": [
      "\u001b[1;31m---------------------------------------------------------------------------\u001b[0m",
      "\u001b[1;31mImportError\u001b[0m                               Traceback (most recent call last)",
      "\u001b[1;32m<ipython-input-21-9e1d8cd818e8>\u001b[0m in \u001b[0;36m<module>\u001b[1;34m\u001b[0m\n\u001b[0;32m      4\u001b[0m \u001b[1;33m\u001b[0m\u001b[0m\n\u001b[0;32m      5\u001b[0m \u001b[0mtokenizer\u001b[0m \u001b[1;33m=\u001b[0m \u001b[0mAlbertTokenizer\u001b[0m\u001b[1;33m.\u001b[0m\u001b[0mfrom_pretrained\u001b[0m\u001b[1;33m(\u001b[0m\u001b[1;34m'albert-base-v2'\u001b[0m\u001b[1;33m)\u001b[0m\u001b[1;33m\u001b[0m\u001b[1;33m\u001b[0m\u001b[0m\n\u001b[1;32m----> 6\u001b[1;33m \u001b[0mmodel\u001b[0m \u001b[1;33m=\u001b[0m \u001b[0mAlbertForQuestionAnswering\u001b[0m\u001b[1;33m.\u001b[0m\u001b[0mfrom_pretrained\u001b[0m\u001b[1;33m(\u001b[0m\u001b[1;34m'albert-base-v2'\u001b[0m\u001b[1;33m)\u001b[0m\u001b[1;33m\u001b[0m\u001b[1;33m\u001b[0m\u001b[0m\n\u001b[0m\u001b[0;32m      7\u001b[0m \u001b[1;33m\u001b[0m\u001b[0m\n\u001b[0;32m      8\u001b[0m \u001b[0mquestion\u001b[0m\u001b[1;33m,\u001b[0m \u001b[0mtext\u001b[0m \u001b[1;33m=\u001b[0m \u001b[1;34m\"Who was Jim Henson?\"\u001b[0m\u001b[1;33m,\u001b[0m \u001b[1;34m\"Jim Henson was a nice puppet\"\u001b[0m\u001b[1;33m\u001b[0m\u001b[1;33m\u001b[0m\u001b[0m\n",
      "\u001b[1;32mw:\\references\\if6082 nlp\\repos\\if6082-tubes\\virtualenv\\lib\\site-packages\\transformers\\utils\\dummy_pt_objects.py\u001b[0m in \u001b[0;36mfrom_pretrained\u001b[1;34m(self, *args, **kwargs)\u001b[0m\n\u001b[0;32m    277\u001b[0m     \u001b[1;33m@\u001b[0m\u001b[0mclassmethod\u001b[0m\u001b[1;33m\u001b[0m\u001b[1;33m\u001b[0m\u001b[0m\n\u001b[0;32m    278\u001b[0m     \u001b[1;32mdef\u001b[0m \u001b[0mfrom_pretrained\u001b[0m\u001b[1;33m(\u001b[0m\u001b[0mself\u001b[0m\u001b[1;33m,\u001b[0m \u001b[1;33m*\u001b[0m\u001b[0margs\u001b[0m\u001b[1;33m,\u001b[0m \u001b[1;33m**\u001b[0m\u001b[0mkwargs\u001b[0m\u001b[1;33m)\u001b[0m\u001b[1;33m:\u001b[0m\u001b[1;33m\u001b[0m\u001b[1;33m\u001b[0m\u001b[0m\n\u001b[1;32m--> 279\u001b[1;33m         \u001b[0mrequires_pytorch\u001b[0m\u001b[1;33m(\u001b[0m\u001b[0mself\u001b[0m\u001b[1;33m)\u001b[0m\u001b[1;33m\u001b[0m\u001b[1;33m\u001b[0m\u001b[0m\n\u001b[0m\u001b[0;32m    280\u001b[0m \u001b[1;33m\u001b[0m\u001b[0m\n\u001b[0;32m    281\u001b[0m \u001b[1;33m\u001b[0m\u001b[0m\n",
      "\u001b[1;32mw:\\references\\if6082 nlp\\repos\\if6082-tubes\\virtualenv\\lib\\site-packages\\transformers\\file_utils.py\u001b[0m in \u001b[0;36mrequires_pytorch\u001b[1;34m(obj)\u001b[0m\n\u001b[0;32m    536\u001b[0m     \u001b[0mname\u001b[0m \u001b[1;33m=\u001b[0m \u001b[0mobj\u001b[0m\u001b[1;33m.\u001b[0m\u001b[0m__name__\u001b[0m \u001b[1;32mif\u001b[0m \u001b[0mhasattr\u001b[0m\u001b[1;33m(\u001b[0m\u001b[0mobj\u001b[0m\u001b[1;33m,\u001b[0m \u001b[1;34m\"__name__\"\u001b[0m\u001b[1;33m)\u001b[0m \u001b[1;32melse\u001b[0m \u001b[0mobj\u001b[0m\u001b[1;33m.\u001b[0m\u001b[0m__class__\u001b[0m\u001b[1;33m.\u001b[0m\u001b[0m__name__\u001b[0m\u001b[1;33m\u001b[0m\u001b[1;33m\u001b[0m\u001b[0m\n\u001b[0;32m    537\u001b[0m     \u001b[1;32mif\u001b[0m \u001b[1;32mnot\u001b[0m \u001b[0mis_torch_available\u001b[0m\u001b[1;33m(\u001b[0m\u001b[1;33m)\u001b[0m\u001b[1;33m:\u001b[0m\u001b[1;33m\u001b[0m\u001b[1;33m\u001b[0m\u001b[0m\n\u001b[1;32m--> 538\u001b[1;33m         \u001b[1;32mraise\u001b[0m \u001b[0mImportError\u001b[0m\u001b[1;33m(\u001b[0m\u001b[0mPYTORCH_IMPORT_ERROR\u001b[0m\u001b[1;33m.\u001b[0m\u001b[0mformat\u001b[0m\u001b[1;33m(\u001b[0m\u001b[0mname\u001b[0m\u001b[1;33m)\u001b[0m\u001b[1;33m)\u001b[0m\u001b[1;33m\u001b[0m\u001b[1;33m\u001b[0m\u001b[0m\n\u001b[0m\u001b[0;32m    539\u001b[0m \u001b[1;33m\u001b[0m\u001b[0m\n\u001b[0;32m    540\u001b[0m \u001b[1;33m\u001b[0m\u001b[0m\n",
      "\u001b[1;31mImportError\u001b[0m: \nAlbertForQuestionAnswering requires the PyTorch library but it was not found in your environment. Checkout the instructions on the\ninstallation page: https://pytorch.org/get-started/locally/ and follow the ones that match your environment.\n"
     ]
    }
   ],
   "source": [
    "# Exploration with ALBERT\n",
    "from transformers import AlbertTokenizer, AlbertForQuestionAnswering\n",
    "import torch\n",
    "\n",
    "tokenizer = AlbertTokenizer.from_pretrained('albert-base-v2')\n",
    "model = AlbertForQuestionAnswering.from_pretrained('albert-base-v2')\n",
    "\n",
    "question, text = \"Who was Jim Henson?\", \"Jim Henson was a nice puppet\"\n",
    "inputs = tokenizer(question, text, return_tensors='pt')\n",
    "start_positions = torch.tensor([1])\n",
    "end_positions = torch.tensor([3])\n",
    "\n",
    "outputs = model(**inputs, start_positions=start_positions, end_positions=end_positions)\n",
    "loss = outputs.loss\n",
    "start_scores = outputs.start_logits\n",
    "end_scores = outputs.end_logits"
   ]
  },
  {
   "cell_type": "code",
   "execution_count": null,
   "id": "d173bb60",
   "metadata": {},
   "outputs": [],
   "source": []
  }
 ],
 "metadata": {
  "kernelspec": {
   "display_name": "Python 3",
   "language": "python",
   "name": "python3"
  },
  "language_info": {
   "codemirror_mode": {
    "name": "ipython",
    "version": 3
   },
   "file_extension": ".py",
   "mimetype": "text/x-python",
   "name": "python",
   "nbconvert_exporter": "python",
   "pygments_lexer": "ipython3",
   "version": "3.7.9"
  }
 },
 "nbformat": 4,
 "nbformat_minor": 5
}
