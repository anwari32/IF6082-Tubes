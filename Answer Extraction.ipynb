{
 "cells": [
  {
   "cell_type": "code",
   "execution_count": 1,
   "id": "24e22894",
   "metadata": {},
   "outputs": [],
   "source": [
    "import numpy as np\n",
    "import tensorflow as tf\n",
    "from tensorflow import keras\n",
    "from tensorflow.keras import layers\n",
    "import os\n",
    "\n",
    "os.environ['TF_XLA_FLAGS'] = '--tf_xla_enable_xla_devices'"
   ]
  },
  {
   "cell_type": "code",
   "execution_count": null,
   "id": "c3fc32eb",
   "metadata": {},
   "outputs": [],
   "source": [
    "# Reads CSVs\n",
    "def read_csv(file, encoding):\n",
    "    df = pd.read_csv(file, encoding=encoding)\n",
    "    df.fillna(value=\"\", inplace=True)\n",
    "    return df\n",
    "\n",
    "# Read covid BERT documents\n",
    "faq_covidbert = read_csv(\"data/faqs/faq_covidbert.csv\", \"utf8\")\n",
    "\n"
   ]
  },
  {
   "cell_type": "code",
   "execution_count": null,
   "id": "ab4e852b",
   "metadata": {},
   "outputs": [],
   "source": [
    "# Documents retriever\n",
    "# Retrieve documents and store them into database\n",
    "from haystack.database.elasticsearch import ElasticsearchDocumentStore\n",
    "from haystack.retrieve.elasticsearch import ElasticsearchRetriever\n",
    "\n",
    "retriever = ElasticsearchRetriever()\n",
    "document_store = ElasticsearchRetriever()"
   ]
  },
  {
   "cell_type": "code",
   "execution_count": 7,
   "id": "97254a2e",
   "metadata": {},
   "outputs": [
    {
     "name": "stdout",
     "output_type": "stream",
     "text": [
      "Found 400000 word vectors.\n"
     ]
    }
   ],
   "source": [
    "# Load GloVe embeddings\n",
    "def load_glove():\n",
    "    f = open('glove/glove.6B.100d.txt',encoding=\"utf8\")\n",
    "    embeddings_index = dict()\n",
    "    for line in f:\n",
    "        values = line.split()\n",
    "        word = values[0]\n",
    "        embeddings = np.asarray(values[1:], dtype='float32')\n",
    "        embeddings_index[word] = embeddings\n",
    "    f.close()\n",
    "    print('Found {} word vectors.'.format(len(embeddings_index)))\n",
    "\n",
    "load_glove()"
   ]
  },
  {
   "cell_type": "code",
   "execution_count": 2,
   "id": "b6fb117c",
   "metadata": {},
   "outputs": [
    {
     "name": "stdout",
     "output_type": "stream",
     "text": [
      "Model: \"sequential\"\n",
      "_________________________________________________________________\n",
      "Layer (type)                 Output Shape              Param #   \n",
      "=================================================================\n",
      "embedding (Embedding)        (None, None, 50)          5000      \n",
      "_________________________________________________________________\n",
      "lstm (LSTM)                  (None, 128)               91648     \n",
      "_________________________________________________________________\n",
      "dense (Dense)                (None, 10)                1290      \n",
      "=================================================================\n",
      "Total params: 97,938\n",
      "Trainable params: 97,938\n",
      "Non-trainable params: 0\n",
      "_________________________________________________________________\n"
     ]
    }
   ],
   "source": [
    "INPUT_DIMENSION = 100 # using GloVe Embedding 100 dimensions.\n",
    "OUTPUT_DIMENSION = 50 # output embedding layer 50 dimensions.\n",
    "\n",
    "model = keras.Sequential()\n",
    "model.add(layers.Embedding(input_dim=INPUT_DIMENSION, output_dim=OUTPUT_DIMENSION))\n",
    "model.add(layers.LSTM(128))\n",
    "model.add(layers.Dense(10))\n",
    "model.summary()"
   ]
  },
  {
   "cell_type": "code",
   "execution_count": null,
   "id": "b00f3008",
   "metadata": {},
   "outputs": [],
   "source": []
  }
 ],
 "metadata": {
  "kernelspec": {
   "display_name": "Python 3",
   "language": "python",
   "name": "python3"
  },
  "language_info": {
   "codemirror_mode": {
    "name": "ipython",
    "version": 3
   },
   "file_extension": ".py",
   "mimetype": "text/x-python",
   "name": "python",
   "nbconvert_exporter": "python",
   "pygments_lexer": "ipython3",
   "version": "3.7.9"
  }
 },
 "nbformat": 4,
 "nbformat_minor": 5
}
