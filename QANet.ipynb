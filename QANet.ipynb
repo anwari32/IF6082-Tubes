{
 "cells": [
  {
   "cell_type": "markdown",
   "id": "6108bf74",
   "metadata": {},
   "source": [
    "# This a reproduction of QANet found in https://github.com/localminimum/QANet"
   ]
  },
  {
   "cell_type": "code",
   "execution_count": 1,
   "id": "0b861f2a",
   "metadata": {},
   "outputs": [],
   "source": [
    "import numpy as np\n",
    "import tensorflow as tr\n",
    "import tqdm\n",
    "import spacy"
   ]
  },
  {
   "cell_type": "code",
   "execution_count": null,
   "id": "1c8b2e04",
   "metadata": {},
   "outputs": [],
   "source": []
  }
 ],
 "metadata": {
  "kernelspec": {
   "display_name": "Python 3",
   "language": "python",
   "name": "python3"
  },
  "language_info": {
   "codemirror_mode": {
    "name": "ipython",
    "version": 3
   },
   "file_extension": ".py",
   "mimetype": "text/x-python",
   "name": "python",
   "nbconvert_exporter": "python",
   "pygments_lexer": "ipython3",
   "version": "3.7.9"
  }
 },
 "nbformat": 4,
 "nbformat_minor": 5
}
